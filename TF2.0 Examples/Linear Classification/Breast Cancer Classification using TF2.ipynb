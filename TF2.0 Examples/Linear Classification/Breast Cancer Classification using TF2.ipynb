{
 "cells": [
  {
   "cell_type": "code",
   "execution_count": 9,
   "metadata": {},
   "outputs": [],
   "source": [
    "import tensorflow as tf\n",
    "import sklearn\n",
    "from sklearn.datasets import load_breast_cancer"
   ]
  },
  {
   "cell_type": "code",
   "execution_count": 10,
   "metadata": {},
   "outputs": [],
   "source": [
    "data = load_breast_cancer()"
   ]
  },
  {
   "cell_type": "code",
   "execution_count": 11,
   "metadata": {},
   "outputs": [
    {
     "data": {
      "text/plain": [
       "sklearn.utils.Bunch"
      ]
     },
     "execution_count": 11,
     "metadata": {},
     "output_type": "execute_result"
    }
   ],
   "source": [
    "type(data)"
   ]
  },
  {
   "cell_type": "code",
   "execution_count": 12,
   "metadata": {},
   "outputs": [
    {
     "data": {
      "text/plain": [
       "sklearn.utils.Bunch"
      ]
     },
     "execution_count": 12,
     "metadata": {},
     "output_type": "execute_result"
    }
   ],
   "source": [
    "sklearn.utils.Bunch"
   ]
  },
  {
   "cell_type": "code",
   "execution_count": 13,
   "metadata": {},
   "outputs": [
    {
     "data": {
      "text/plain": [
       "dict_keys(['data', 'target', 'target_names', 'DESCR', 'feature_names', 'filename'])"
      ]
     },
     "execution_count": 13,
     "metadata": {},
     "output_type": "execute_result"
    }
   ],
   "source": [
    "#Note It is a Bunch Object\n",
    "# This Basically act like a dictionery where you can treat the keys like attribute\n",
    "data.keys()"
   ]
  },
  {
   "cell_type": "code",
   "execution_count": 15,
   "metadata": {},
   "outputs": [
    {
     "data": {
      "text/plain": [
       "(569, 30)"
      ]
     },
     "execution_count": 15,
     "metadata": {},
     "output_type": "execute_result"
    }
   ],
   "source": [
    "data.data.shape"
   ]
  },
  {
   "cell_type": "code",
   "execution_count": 18,
   "metadata": {
    "scrolled": true
   },
   "outputs": [
    {
     "data": {
      "text/plain": [
       "array([0, 0, 0, 0, 0, 0, 0, 0, 0, 0, 0, 0, 0, 0, 0, 0, 0, 0, 0, 1, 1, 1,\n",
       "       0, 0, 0, 0, 0, 0, 0, 0, 0, 0, 0, 0, 0, 0, 0, 1, 0, 0, 0, 0, 0, 0,\n",
       "       0, 0, 1, 0, 1, 1, 1, 1, 1, 0, 0, 1, 0, 0, 1, 1, 1, 1, 0, 1, 0, 0,\n",
       "       1, 1, 1, 1, 0, 1, 0, 0, 1, 0, 1, 0, 0, 1, 1, 1, 0, 0, 1, 0, 0, 0,\n",
       "       1, 1, 1, 0, 1, 1, 0, 0, 1, 1, 1, 0, 0, 1, 1, 1, 1, 0, 1, 1, 0, 1,\n",
       "       1, 1, 1, 1, 1, 1, 1, 0, 0, 0, 1, 0, 0, 1, 1, 1, 0, 0, 1, 0, 1, 0,\n",
       "       0, 1, 0, 0, 1, 1, 0, 1, 1, 0, 1, 1, 1, 1, 0, 1, 1, 1, 1, 1, 1, 1,\n",
       "       1, 1, 0, 1, 1, 1, 1, 0, 0, 1, 0, 1, 1, 0, 0, 1, 1, 0, 0, 1, 1, 1,\n",
       "       1, 0, 1, 1, 0, 0, 0, 1, 0, 1, 0, 1, 1, 1, 0, 1, 1, 0, 0, 1, 0, 0,\n",
       "       0, 0, 1, 0, 0, 0, 1, 0, 1, 0, 1, 1, 0, 1, 0, 0, 0, 0, 1, 1, 0, 0,\n",
       "       1, 1, 1, 0, 1, 1, 1, 1, 1, 0, 0, 1, 1, 0, 1, 1, 0, 0, 1, 0, 1, 1,\n",
       "       1, 1, 0, 1, 1, 1, 1, 1, 0, 1, 0, 0, 0, 0, 0, 0, 0, 0, 0, 0, 0, 0,\n",
       "       0, 0, 1, 1, 1, 1, 1, 1, 0, 1, 0, 1, 1, 0, 1, 1, 0, 1, 0, 0, 1, 1,\n",
       "       1, 1, 1, 1, 1, 1, 1, 1, 1, 1, 1, 0, 1, 1, 0, 1, 0, 1, 1, 1, 1, 1,\n",
       "       1, 1, 1, 1, 1, 1, 1, 1, 1, 0, 1, 1, 1, 0, 1, 0, 1, 1, 1, 1, 0, 0,\n",
       "       0, 1, 1, 1, 1, 0, 1, 0, 1, 0, 1, 1, 1, 0, 1, 1, 1, 1, 1, 1, 1, 0,\n",
       "       0, 0, 1, 1, 1, 1, 1, 1, 1, 1, 1, 1, 1, 0, 0, 1, 0, 0, 0, 1, 0, 0,\n",
       "       1, 1, 1, 1, 1, 0, 1, 1, 1, 1, 1, 0, 1, 1, 1, 0, 1, 1, 0, 0, 1, 1,\n",
       "       1, 1, 1, 1, 0, 1, 1, 1, 1, 1, 1, 1, 0, 1, 1, 1, 1, 1, 0, 1, 1, 0,\n",
       "       1, 1, 1, 1, 1, 1, 1, 1, 1, 1, 1, 1, 0, 1, 0, 0, 1, 0, 1, 1, 1, 1,\n",
       "       1, 0, 1, 1, 0, 1, 0, 1, 1, 0, 1, 0, 1, 1, 1, 1, 1, 1, 1, 1, 0, 0,\n",
       "       1, 1, 1, 1, 1, 1, 0, 1, 1, 1, 1, 1, 1, 1, 1, 1, 1, 0, 1, 1, 1, 1,\n",
       "       1, 1, 1, 0, 1, 0, 1, 1, 0, 1, 1, 1, 1, 1, 0, 0, 1, 0, 1, 0, 1, 1,\n",
       "       1, 1, 1, 0, 1, 1, 0, 1, 0, 1, 0, 0, 1, 1, 1, 0, 1, 1, 1, 1, 1, 1,\n",
       "       1, 1, 1, 1, 1, 0, 1, 0, 0, 1, 1, 1, 1, 1, 1, 1, 1, 1, 1, 1, 1, 1,\n",
       "       1, 1, 1, 1, 1, 1, 1, 1, 1, 1, 1, 1, 0, 0, 0, 0, 0, 0, 1])"
      ]
     },
     "execution_count": 18,
     "metadata": {},
     "output_type": "execute_result"
    }
   ],
   "source": [
    "data.target"
   ]
  },
  {
   "cell_type": "code",
   "execution_count": 17,
   "metadata": {},
   "outputs": [
    {
     "data": {
      "text/plain": [
       "array(['malignant', 'benign'], dtype='<U9')"
      ]
     },
     "execution_count": 17,
     "metadata": {},
     "output_type": "execute_result"
    }
   ],
   "source": [
    "data.target_names"
   ]
  },
  {
   "cell_type": "code",
   "execution_count": 19,
   "metadata": {},
   "outputs": [
    {
     "data": {
      "text/plain": [
       "(569,)"
      ]
     },
     "execution_count": 19,
     "metadata": {},
     "output_type": "execute_result"
    }
   ],
   "source": [
    "data.target.shape"
   ]
  },
  {
   "cell_type": "code",
   "execution_count": 22,
   "metadata": {},
   "outputs": [
    {
     "data": {
      "text/plain": [
       "array(['mean radius', 'mean texture', 'mean perimeter', 'mean area',\n",
       "       'mean smoothness', 'mean compactness', 'mean concavity',\n",
       "       'mean concave points', 'mean symmetry', 'mean fractal dimension',\n",
       "       'radius error', 'texture error', 'perimeter error', 'area error',\n",
       "       'smoothness error', 'compactness error', 'concavity error',\n",
       "       'concave points error', 'symmetry error',\n",
       "       'fractal dimension error', 'worst radius', 'worst texture',\n",
       "       'worst perimeter', 'worst area', 'worst smoothness',\n",
       "       'worst compactness', 'worst concavity', 'worst concave points',\n",
       "       'worst symmetry', 'worst fractal dimension'], dtype='<U23')"
      ]
     },
     "execution_count": 22,
     "metadata": {},
     "output_type": "execute_result"
    }
   ],
   "source": [
    "data.feature_names"
   ]
  },
  {
   "cell_type": "code",
   "execution_count": 24,
   "metadata": {},
   "outputs": [],
   "source": [
    "from sklearn.model_selection import train_test_split\n",
    "\n",
    "x_train,x_test,y_train,y_test = train_test_split(data.data, data.target, test_size = 0.3)\n",
    "N, D = x_train.shape"
   ]
  },
  {
   "cell_type": "code",
   "execution_count": 25,
   "metadata": {},
   "outputs": [],
   "source": [
    "from sklearn.preprocessing import StandardScaler\n",
    "\n",
    "scaler = StandardScaler()\n",
    "x_train = scaler.fit_transform(x_train)\n",
    "x_test = scaler.transform(x_test)"
   ]
  },
  {
   "cell_type": "code",
   "execution_count": 40,
   "metadata": {},
   "outputs": [
    {
     "name": "stdout",
     "output_type": "stream",
     "text": [
      "Train on 398 samples, validate on 171 samples\n",
      "Epoch 1/100\n",
      "398/398 [==============================] - 0s 882us/sample - loss: 0.8870 - acc: 0.4623 - val_loss: 0.7151 - val_acc: 0.5614\n",
      "Epoch 2/100\n",
      "398/398 [==============================] - 0s 103us/sample - loss: 0.8091 - acc: 0.5050 - val_loss: 0.6515 - val_acc: 0.6023\n",
      "Epoch 3/100\n",
      "398/398 [==============================] - 0s 89us/sample - loss: 0.7377 - acc: 0.5678 - val_loss: 0.5963 - val_acc: 0.6491\n",
      "Epoch 4/100\n",
      "398/398 [==============================] - 0s 105us/sample - loss: 0.6760 - acc: 0.6131 - val_loss: 0.5485 - val_acc: 0.7251\n",
      "Epoch 5/100\n",
      "398/398 [==============================] - 0s 94us/sample - loss: 0.6216 - acc: 0.6809 - val_loss: 0.5068 - val_acc: 0.7485\n",
      "Epoch 6/100\n",
      "398/398 [==============================] - 0s 88us/sample - loss: 0.5757 - acc: 0.7261 - val_loss: 0.4698 - val_acc: 0.7778\n",
      "Epoch 7/100\n",
      "398/398 [==============================] - 0s 104us/sample - loss: 0.5352 - acc: 0.7538 - val_loss: 0.4387 - val_acc: 0.8187\n",
      "Epoch 8/100\n",
      "398/398 [==============================] - 0s 89us/sample - loss: 0.5003 - acc: 0.7839 - val_loss: 0.4113 - val_acc: 0.8363\n",
      "Epoch 9/100\n",
      "398/398 [==============================] - 0s 97us/sample - loss: 0.4695 - acc: 0.8090 - val_loss: 0.3878 - val_acc: 0.8480\n",
      "Epoch 10/100\n",
      "398/398 [==============================] - 0s 100us/sample - loss: 0.4431 - acc: 0.8291 - val_loss: 0.3668 - val_acc: 0.8655\n",
      "Epoch 11/100\n",
      "398/398 [==============================] - 0s 95us/sample - loss: 0.4185 - acc: 0.8467 - val_loss: 0.3488 - val_acc: 0.9006\n",
      "Epoch 12/100\n",
      "398/398 [==============================] - 0s 95us/sample - loss: 0.3975 - acc: 0.8568 - val_loss: 0.3321 - val_acc: 0.9123\n",
      "Epoch 13/100\n",
      "398/398 [==============================] - 0s 102us/sample - loss: 0.3785 - acc: 0.8593 - val_loss: 0.3170 - val_acc: 0.9123\n",
      "Epoch 14/100\n",
      "398/398 [==============================] - 0s 114us/sample - loss: 0.3611 - acc: 0.8668 - val_loss: 0.3036 - val_acc: 0.9123\n",
      "Epoch 15/100\n",
      "398/398 [==============================] - 0s 94us/sample - loss: 0.3457 - acc: 0.8744 - val_loss: 0.2917 - val_acc: 0.9123\n",
      "Epoch 16/100\n",
      "398/398 [==============================] - 0s 99us/sample - loss: 0.3313 - acc: 0.8819 - val_loss: 0.2806 - val_acc: 0.9240\n",
      "Epoch 17/100\n",
      "398/398 [==============================] - 0s 92us/sample - loss: 0.3181 - acc: 0.8819 - val_loss: 0.2708 - val_acc: 0.9240\n",
      "Epoch 18/100\n",
      "398/398 [==============================] - 0s 108us/sample - loss: 0.3066 - acc: 0.8869 - val_loss: 0.2615 - val_acc: 0.9298\n",
      "Epoch 19/100\n",
      "398/398 [==============================] - 0s 114us/sample - loss: 0.2953 - acc: 0.8970 - val_loss: 0.2531 - val_acc: 0.9415\n",
      "Epoch 20/100\n",
      "398/398 [==============================] - 0s 104us/sample - loss: 0.2854 - acc: 0.9070 - val_loss: 0.2453 - val_acc: 0.9474\n",
      "Epoch 21/100\n",
      "398/398 [==============================] - 0s 83us/sample - loss: 0.2761 - acc: 0.9121 - val_loss: 0.2384 - val_acc: 0.9474\n",
      "Epoch 22/100\n",
      "398/398 [==============================] - 0s 100us/sample - loss: 0.2673 - acc: 0.9146 - val_loss: 0.2318 - val_acc: 0.9474\n",
      "Epoch 23/100\n",
      "398/398 [==============================] - 0s 94us/sample - loss: 0.2593 - acc: 0.9171 - val_loss: 0.2255 - val_acc: 0.9474\n",
      "Epoch 24/100\n",
      "398/398 [==============================] - 0s 118us/sample - loss: 0.2518 - acc: 0.9171 - val_loss: 0.2200 - val_acc: 0.9474\n",
      "Epoch 25/100\n",
      "398/398 [==============================] - 0s 112us/sample - loss: 0.2449 - acc: 0.9221 - val_loss: 0.2147 - val_acc: 0.9532\n",
      "Epoch 26/100\n",
      "398/398 [==============================] - 0s 119us/sample - loss: 0.2384 - acc: 0.9271 - val_loss: 0.2095 - val_acc: 0.9532\n",
      "Epoch 27/100\n",
      "398/398 [==============================] - 0s 105us/sample - loss: 0.2320 - acc: 0.9296 - val_loss: 0.2048 - val_acc: 0.9532\n",
      "Epoch 28/100\n",
      "398/398 [==============================] - 0s 93us/sample - loss: 0.2263 - acc: 0.9347 - val_loss: 0.2003 - val_acc: 0.9591\n",
      "Epoch 29/100\n",
      "398/398 [==============================] - 0s 108us/sample - loss: 0.2210 - acc: 0.9372 - val_loss: 0.1961 - val_acc: 0.9591\n",
      "Epoch 30/100\n",
      "398/398 [==============================] - 0s 123us/sample - loss: 0.2157 - acc: 0.9372 - val_loss: 0.1921 - val_acc: 0.9591\n",
      "Epoch 31/100\n",
      "398/398 [==============================] - 0s 123us/sample - loss: 0.2109 - acc: 0.9422 - val_loss: 0.1883 - val_acc: 0.9591\n",
      "Epoch 32/100\n",
      "398/398 [==============================] - 0s 110us/sample - loss: 0.2063 - acc: 0.9472 - val_loss: 0.1848 - val_acc: 0.9591\n",
      "Epoch 33/100\n",
      "398/398 [==============================] - 0s 119us/sample - loss: 0.2019 - acc: 0.9497 - val_loss: 0.1815 - val_acc: 0.9591\n",
      "Epoch 34/100\n",
      "398/398 [==============================] - 0s 138us/sample - loss: 0.1977 - acc: 0.9523 - val_loss: 0.1784 - val_acc: 0.9591\n",
      "Epoch 35/100\n",
      "398/398 [==============================] - 0s 153us/sample - loss: 0.1939 - acc: 0.9573 - val_loss: 0.1753 - val_acc: 0.9708\n",
      "Epoch 36/100\n",
      "398/398 [==============================] - 0s 153us/sample - loss: 0.1903 - acc: 0.9573 - val_loss: 0.1727 - val_acc: 0.9708\n",
      "Epoch 37/100\n",
      "398/398 [==============================] - 0s 135us/sample - loss: 0.1867 - acc: 0.9573 - val_loss: 0.1700 - val_acc: 0.9708\n",
      "Epoch 38/100\n",
      "398/398 [==============================] - 0s 125us/sample - loss: 0.1832 - acc: 0.9573 - val_loss: 0.1674 - val_acc: 0.9708\n",
      "Epoch 39/100\n",
      "398/398 [==============================] - 0s 127us/sample - loss: 0.1799 - acc: 0.9598 - val_loss: 0.1650 - val_acc: 0.9708\n",
      "Epoch 40/100\n",
      "398/398 [==============================] - 0s 95us/sample - loss: 0.1770 - acc: 0.9598 - val_loss: 0.1626 - val_acc: 0.9708\n",
      "Epoch 41/100\n",
      "398/398 [==============================] - 0s 110us/sample - loss: 0.1739 - acc: 0.9598 - val_loss: 0.1603 - val_acc: 0.9708\n",
      "Epoch 42/100\n",
      "398/398 [==============================] - 0s 158us/sample - loss: 0.1711 - acc: 0.9598 - val_loss: 0.1580 - val_acc: 0.9708\n",
      "Epoch 43/100\n",
      "398/398 [==============================] - 0s 119us/sample - loss: 0.1684 - acc: 0.9598 - val_loss: 0.1558 - val_acc: 0.9708\n",
      "Epoch 44/100\n",
      "398/398 [==============================] - 0s 110us/sample - loss: 0.1658 - acc: 0.9598 - val_loss: 0.1539 - val_acc: 0.9708\n",
      "Epoch 45/100\n",
      "398/398 [==============================] - 0s 125us/sample - loss: 0.1634 - acc: 0.9598 - val_loss: 0.1521 - val_acc: 0.9708\n",
      "Epoch 46/100\n",
      "398/398 [==============================] - 0s 94us/sample - loss: 0.1609 - acc: 0.9598 - val_loss: 0.1500 - val_acc: 0.9708\n",
      "Epoch 47/100\n",
      "398/398 [==============================] - 0s 99us/sample - loss: 0.1587 - acc: 0.9623 - val_loss: 0.1482 - val_acc: 0.9766\n",
      "Epoch 48/100\n",
      "398/398 [==============================] - 0s 108us/sample - loss: 0.1564 - acc: 0.9623 - val_loss: 0.1466 - val_acc: 0.9766\n",
      "Epoch 49/100\n",
      "398/398 [==============================] - 0s 95us/sample - loss: 0.1541 - acc: 0.9623 - val_loss: 0.1450 - val_acc: 0.9766\n",
      "Epoch 50/100\n",
      "398/398 [==============================] - 0s 153us/sample - loss: 0.1521 - acc: 0.9623 - val_loss: 0.1433 - val_acc: 0.9766\n",
      "Epoch 51/100\n",
      "398/398 [==============================] - 0s 132us/sample - loss: 0.1500 - acc: 0.9648 - val_loss: 0.1418 - val_acc: 0.9766\n",
      "Epoch 52/100\n",
      "398/398 [==============================] - 0s 93us/sample - loss: 0.1482 - acc: 0.9648 - val_loss: 0.1403 - val_acc: 0.9766\n",
      "Epoch 53/100\n",
      "398/398 [==============================] - 0s 90us/sample - loss: 0.1463 - acc: 0.9648 - val_loss: 0.1389 - val_acc: 0.9766\n",
      "Epoch 54/100\n",
      "398/398 [==============================] - 0s 108us/sample - loss: 0.1444 - acc: 0.9648 - val_loss: 0.1375 - val_acc: 0.9766\n",
      "Epoch 55/100\n",
      "398/398 [==============================] - 0s 93us/sample - loss: 0.1427 - acc: 0.9673 - val_loss: 0.1361 - val_acc: 0.9766\n",
      "Epoch 56/100\n",
      "398/398 [==============================] - 0s 93us/sample - loss: 0.1410 - acc: 0.9673 - val_loss: 0.1348 - val_acc: 0.9766\n",
      "Epoch 57/100\n",
      "398/398 [==============================] - 0s 108us/sample - loss: 0.1394 - acc: 0.9673 - val_loss: 0.1336 - val_acc: 0.9766\n",
      "Epoch 58/100\n",
      "398/398 [==============================] - 0s 127us/sample - loss: 0.1378 - acc: 0.9673 - val_loss: 0.1324 - val_acc: 0.9766\n",
      "Epoch 59/100\n",
      "398/398 [==============================] - 0s 113us/sample - loss: 0.1363 - acc: 0.9673 - val_loss: 0.1312 - val_acc: 0.9766\n",
      "Epoch 60/100\n"
     ]
    },
    {
     "name": "stdout",
     "output_type": "stream",
     "text": [
      "398/398 [==============================] - 0s 115us/sample - loss: 0.1347 - acc: 0.9673 - val_loss: 0.1301 - val_acc: 0.9766\n",
      "Epoch 61/100\n",
      "398/398 [==============================] - 0s 127us/sample - loss: 0.1333 - acc: 0.9673 - val_loss: 0.1288 - val_acc: 0.9766\n",
      "Epoch 62/100\n",
      "398/398 [==============================] - 0s 130us/sample - loss: 0.1318 - acc: 0.9673 - val_loss: 0.1278 - val_acc: 0.9766\n",
      "Epoch 63/100\n",
      "398/398 [==============================] - 0s 89us/sample - loss: 0.1304 - acc: 0.9673 - val_loss: 0.1269 - val_acc: 0.9766\n",
      "Epoch 64/100\n",
      "398/398 [==============================] - 0s 82us/sample - loss: 0.1291 - acc: 0.9673 - val_loss: 0.1258 - val_acc: 0.9766\n",
      "Epoch 65/100\n",
      "398/398 [==============================] - 0s 85us/sample - loss: 0.1279 - acc: 0.9698 - val_loss: 0.1251 - val_acc: 0.9766\n",
      "Epoch 66/100\n",
      "398/398 [==============================] - 0s 87us/sample - loss: 0.1265 - acc: 0.9698 - val_loss: 0.1240 - val_acc: 0.9766\n",
      "Epoch 67/100\n",
      "398/398 [==============================] - 0s 95us/sample - loss: 0.1253 - acc: 0.9698 - val_loss: 0.1233 - val_acc: 0.9766\n",
      "Epoch 68/100\n",
      "398/398 [==============================] - 0s 89us/sample - loss: 0.1240 - acc: 0.9698 - val_loss: 0.1224 - val_acc: 0.9766\n",
      "Epoch 69/100\n",
      "398/398 [==============================] - 0s 93us/sample - loss: 0.1228 - acc: 0.9724 - val_loss: 0.1216 - val_acc: 0.9766\n",
      "Epoch 70/100\n",
      "398/398 [==============================] - 0s 93us/sample - loss: 0.1217 - acc: 0.9724 - val_loss: 0.1206 - val_acc: 0.9766\n",
      "Epoch 71/100\n",
      "398/398 [==============================] - 0s 100us/sample - loss: 0.1206 - acc: 0.9724 - val_loss: 0.1198 - val_acc: 0.9766\n",
      "Epoch 72/100\n",
      "398/398 [==============================] - 0s 117us/sample - loss: 0.1195 - acc: 0.9724 - val_loss: 0.1190 - val_acc: 0.9766\n",
      "Epoch 73/100\n",
      "398/398 [==============================] - 0s 110us/sample - loss: 0.1184 - acc: 0.9724 - val_loss: 0.1182 - val_acc: 0.9766\n",
      "Epoch 74/100\n",
      "398/398 [==============================] - 0s 89us/sample - loss: 0.1174 - acc: 0.9724 - val_loss: 0.1174 - val_acc: 0.9825\n",
      "Epoch 75/100\n",
      "398/398 [==============================] - 0s 84us/sample - loss: 0.1164 - acc: 0.9724 - val_loss: 0.1167 - val_acc: 0.9766\n",
      "Epoch 76/100\n",
      "398/398 [==============================] - 0s 139us/sample - loss: 0.1154 - acc: 0.9724 - val_loss: 0.1160 - val_acc: 0.9766\n",
      "Epoch 77/100\n",
      "398/398 [==============================] - 0s 81us/sample - loss: 0.1145 - acc: 0.9724 - val_loss: 0.1155 - val_acc: 0.9766\n",
      "Epoch 78/100\n",
      "398/398 [==============================] - 0s 83us/sample - loss: 0.1135 - acc: 0.9724 - val_loss: 0.1148 - val_acc: 0.9766\n",
      "Epoch 79/100\n",
      "398/398 [==============================] - 0s 88us/sample - loss: 0.1126 - acc: 0.9724 - val_loss: 0.1143 - val_acc: 0.9766\n",
      "Epoch 80/100\n",
      "398/398 [==============================] - 0s 95us/sample - loss: 0.1117 - acc: 0.9724 - val_loss: 0.1137 - val_acc: 0.9766\n",
      "Epoch 81/100\n",
      "398/398 [==============================] - 0s 97us/sample - loss: 0.1108 - acc: 0.9724 - val_loss: 0.1131 - val_acc: 0.9766\n",
      "Epoch 82/100\n",
      "398/398 [==============================] - 0s 99us/sample - loss: 0.1099 - acc: 0.9724 - val_loss: 0.1125 - val_acc: 0.9766\n",
      "Epoch 83/100\n",
      "398/398 [==============================] - 0s 99us/sample - loss: 0.1091 - acc: 0.9724 - val_loss: 0.1119 - val_acc: 0.9766\n",
      "Epoch 84/100\n",
      "398/398 [==============================] - 0s 79us/sample - loss: 0.1083 - acc: 0.9724 - val_loss: 0.1112 - val_acc: 0.9766\n",
      "Epoch 85/100\n",
      "398/398 [==============================] - 0s 99us/sample - loss: 0.1075 - acc: 0.9724 - val_loss: 0.1105 - val_acc: 0.9766\n",
      "Epoch 86/100\n",
      "398/398 [==============================] - 0s 97us/sample - loss: 0.1068 - acc: 0.9724 - val_loss: 0.1098 - val_acc: 0.9825\n",
      "Epoch 87/100\n",
      "398/398 [==============================] - 0s 117us/sample - loss: 0.1060 - acc: 0.9724 - val_loss: 0.1094 - val_acc: 0.9825\n",
      "Epoch 88/100\n",
      "398/398 [==============================] - 0s 100us/sample - loss: 0.1053 - acc: 0.9749 - val_loss: 0.1090 - val_acc: 0.9825\n",
      "Epoch 89/100\n",
      "398/398 [==============================] - 0s 108us/sample - loss: 0.1045 - acc: 0.9749 - val_loss: 0.1084 - val_acc: 0.9825\n",
      "Epoch 90/100\n",
      "398/398 [==============================] - 0s 94us/sample - loss: 0.1038 - acc: 0.9749 - val_loss: 0.1078 - val_acc: 0.9825\n",
      "Epoch 91/100\n",
      "398/398 [==============================] - 0s 104us/sample - loss: 0.1031 - acc: 0.9749 - val_loss: 0.1073 - val_acc: 0.9825\n",
      "Epoch 92/100\n",
      "398/398 [==============================] - 0s 95us/sample - loss: 0.1024 - acc: 0.9749 - val_loss: 0.1068 - val_acc: 0.9825\n",
      "Epoch 93/100\n",
      "398/398 [==============================] - 0s 94us/sample - loss: 0.1017 - acc: 0.9749 - val_loss: 0.1066 - val_acc: 0.9825\n",
      "Epoch 94/100\n",
      "398/398 [==============================] - 0s 102us/sample - loss: 0.1010 - acc: 0.9774 - val_loss: 0.1061 - val_acc: 0.9825\n",
      "Epoch 95/100\n",
      "398/398 [==============================] - 0s 89us/sample - loss: 0.1004 - acc: 0.9774 - val_loss: 0.1055 - val_acc: 0.9825\n",
      "Epoch 96/100\n",
      "398/398 [==============================] - 0s 85us/sample - loss: 0.0998 - acc: 0.9774 - val_loss: 0.1051 - val_acc: 0.9825\n",
      "Epoch 97/100\n",
      "398/398 [==============================] - 0s 82us/sample - loss: 0.0992 - acc: 0.9774 - val_loss: 0.1048 - val_acc: 0.9825\n",
      "Epoch 98/100\n",
      "398/398 [==============================] - 0s 83us/sample - loss: 0.0985 - acc: 0.9799 - val_loss: 0.1043 - val_acc: 0.9825\n",
      "Epoch 99/100\n",
      "398/398 [==============================] - 0s 85us/sample - loss: 0.0979 - acc: 0.9799 - val_loss: 0.1041 - val_acc: 0.9825\n",
      "Epoch 100/100\n",
      "398/398 [==============================] - 0s 78us/sample - loss: 0.0972 - acc: 0.9824 - val_loss: 0.1037 - val_acc: 0.9825\n",
      "398/398 [==============================] - 0s 40us/sample - loss: 0.0969 - acc: 0.9824\n",
      "Train Score:  [0.09687531919185839, 0.98241204]\n",
      "171/171 [==============================] - 0s 61us/sample - loss: 0.1037 - acc: 0.9825\n",
      "Test Score:  [0.10374370304464597, 0.98245615]\n"
     ]
    }
   ],
   "source": [
    "model = tf.keras.models.Sequential()\n",
    "\n",
    "model.add(tf.keras.layers.Dense(1, input_shape=(D,), activation='sigmoid'))\n",
    "\n",
    "model.compile(optimizer = 'adam',\n",
    "             loss='binary_crossentropy',\n",
    "             metrics = ['accuracy'])\n",
    "\n",
    "r = model.fit(x_train, y_train, validation_data=(x_test, y_test), epochs =100)\n",
    "\n",
    "print('Train Score: ', model.evaluate(x_train, y_train))\n",
    "print('Test Score: ', model.evaluate(x_test, y_test))"
   ]
  },
  {
   "cell_type": "code",
   "execution_count": 41,
   "metadata": {},
   "outputs": [
    {
     "data": {
      "text/plain": [
       "[]"
      ]
     },
     "execution_count": 41,
     "metadata": {},
     "output_type": "execute_result"
    },
    {
     "data": {
      "image/png": "[encoded data removed]",
      "text/plain": [
       "<Figure size 432x288 with 1 Axes>"
      ]
     },
     "metadata": {},
     "output_type": "display_data"
    }
   ],
   "source": [
    "#model. fit returns a object that contain data from training process\n",
    "import matplotlib.pyplot as plt\n",
    "plt.plot(r.history['loss'], label = 'loss')\n",
    "plt.plot(r.history['val_loss'], label='val_loss')\n",
    "plt.legend()\n",
    "plt.plot()"
   ]
  },
  {
   "cell_type": "code",
   "execution_count": 42,
   "metadata": {},
   "outputs": [
    {
     "data": {
      "text/plain": [
       "[]"
      ]
     },
     "execution_count": 42,
     "metadata": {},
     "output_type": "execute_result"
    },
    {
     "data": {
      "image/png": "[encoded data removed]",
      "text/plain": [
       "<Figure size 432x288 with 1 Axes>"
      ]
     },
     "metadata": {},
     "output_type": "display_data"
    }
   ],
   "source": [
    "#accuracy plot\n",
    "plt.plot(r.history['acc'], label = 'acc')\n",
    "plt.plot(r.history['val_acc'], label='val_acc')\n",
    "plt.legend()\n",
    "plt.plot()"
   ]
  },
  {
   "cell_type": "code",
   "execution_count": null,
   "metadata": {},
   "outputs": [],
   "source": []
  }
 ],
 "metadata": {
  "kernelspec": {
   "display_name": "Python 3",
   "language": "python",
   "name": "python3"
  },
  "language_info": {
   "codemirror_mode": {
    "name": "ipython",
    "version": 3
   },
   "file_extension": ".py",
   "mimetype": "text/x-python",
   "name": "python",
   "nbconvert_exporter": "python",
   "pygments_lexer": "ipython3",
   "version": "3.6.5"
  }
 },
 "nbformat": 4,
 "nbformat_minor": 2
}
