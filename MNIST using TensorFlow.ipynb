{
 "cells": [
  {
   "cell_type": "markdown",
   "metadata": {},
   "source": [
    "# MNIST Action Plan\n",
    "- Outline the model and choose the activation fn we want to employ\n",
    "- Describe the placeholder, variables, and the related operations\n",
    "- Choose the approprate advanced optimizers\n",
    "- Split the dataset into patches for faster learning\n",
    "- Initialize the variables\n",
    "- Make it learn\n",
    "- Test the accuracy of the model."
   ]
  },
  {
   "cell_type": "code",
   "execution_count": 2,
   "metadata": {},
   "outputs": [
    {
     "name": "stdout",
     "output_type": "stream",
     "text": [
      "WARNING:tensorflow:From <ipython-input-2-ddff5e4ecf4d>:7: read_data_sets (from tensorflow.contrib.learn.python.learn.datasets.mnist) is deprecated and will be removed in a future version.\n",
      "Instructions for updating:\n",
      "Please use alternatives such as official/mnist/dataset.py from tensorflow/models.\n",
      "WARNING:tensorflow:From C:\\Users\\codehax41\\Anaconda3\\lib\\site-packages\\tensorflow\\contrib\\learn\\python\\learn\\datasets\\mnist.py:260: maybe_download (from tensorflow.contrib.learn.python.learn.datasets.base) is deprecated and will be removed in a future version.\n",
      "Instructions for updating:\n",
      "Please write your own downloading logic.\n",
      "WARNING:tensorflow:From C:\\Users\\codehax41\\Anaconda3\\lib\\site-packages\\tensorflow\\contrib\\learn\\python\\learn\\datasets\\base.py:252: _internal_retry.<locals>.wrap.<locals>.wrapped_fn (from tensorflow.contrib.learn.python.learn.datasets.base) is deprecated and will be removed in a future version.\n",
      "Instructions for updating:\n",
      "Please use urllib or similar directly.\n",
      "Successfully downloaded train-images-idx3-ubyte.gz 9912422 bytes.\n",
      "WARNING:tensorflow:From C:\\Users\\codehax41\\Anaconda3\\lib\\site-packages\\tensorflow\\contrib\\learn\\python\\learn\\datasets\\mnist.py:262: extract_images (from tensorflow.contrib.learn.python.learn.datasets.mnist) is deprecated and will be removed in a future version.\n",
      "Instructions for updating:\n",
      "Please use tf.data to implement this functionality.\n",
      "Extracting MNIST_data/train-images-idx3-ubyte.gz\n",
      "Successfully downloaded train-labels-idx1-ubyte.gz 28881 bytes.\n",
      "WARNING:tensorflow:From C:\\Users\\codehax41\\Anaconda3\\lib\\site-packages\\tensorflow\\contrib\\learn\\python\\learn\\datasets\\mnist.py:267: extract_labels (from tensorflow.contrib.learn.python.learn.datasets.mnist) is deprecated and will be removed in a future version.\n",
      "Instructions for updating:\n",
      "Please use tf.data to implement this functionality.\n",
      "Extracting MNIST_data/train-labels-idx1-ubyte.gz\n",
      "WARNING:tensorflow:From C:\\Users\\codehax41\\Anaconda3\\lib\\site-packages\\tensorflow\\contrib\\learn\\python\\learn\\datasets\\mnist.py:110: dense_to_one_hot (from tensorflow.contrib.learn.python.learn.datasets.mnist) is deprecated and will be removed in a future version.\n",
      "Instructions for updating:\n",
      "Please use tf.one_hot on tensors.\n",
      "Successfully downloaded t10k-images-idx3-ubyte.gz 1648877 bytes.\n",
      "Extracting MNIST_data/t10k-images-idx3-ubyte.gz\n",
      "Successfully downloaded t10k-labels-idx1-ubyte.gz 4542 bytes.\n",
      "Extracting MNIST_data/t10k-labels-idx1-ubyte.gz\n",
      "WARNING:tensorflow:From C:\\Users\\codehax41\\Anaconda3\\lib\\site-packages\\tensorflow\\contrib\\learn\\python\\learn\\datasets\\mnist.py:290: DataSet.__init__ (from tensorflow.contrib.learn.python.learn.datasets.mnist) is deprecated and will be removed in a future version.\n",
      "Instructions for updating:\n",
      "Please use alternatives such as official/mnist/dataset.py from tensorflow/models.\n"
     ]
    }
   ],
   "source": [
    "#Import Relevant packages\n",
    "import numpy as np\n",
    "import pandas as pd\n",
    "import tensorflow as tf\n",
    "from tensorflow.examples.tutorials.mnist import input_data\n",
    "\n",
    "mnist = input_data.read_data_sets(\"MNIST_data/\", one_hot=True)"
   ]
  },
  {
   "cell_type": "code",
   "execution_count": 8,
   "metadata": {},
   "outputs": [
    {
     "name": "stderr",
     "output_type": "stream",
     "text": [
      "C:\\Users\\codehax41\\Anaconda3\\lib\\site-packages\\tensorflow\\python\\client\\session.py:1702: UserWarning: An interactive session is already active. This can cause out-of-memory errors in some cases. You must explicitly call `InteractiveSession.close()` to release resources held by the other session(s).\n",
      "  warnings.warn('An interactive session is already active. This can '\n"
     ]
    },
    {
     "name": "stdout",
     "output_type": "stream",
     "text": [
      "Epochs 1. Training Loss : 0.338. Validation Loss : 0.169. Validation Accuracy : 95.30%\n",
      "Epochs 2. Training Loss : 0.134. Validation Loss : 0.117. Validation Accuracy : 96.50%\n",
      "Epochs 3. Training Loss : 0.095. Validation Loss : 0.096. Validation Accuracy : 97.18%\n",
      "Epochs 4. Training Loss : 0.072. Validation Loss : 0.086. Validation Accuracy : 97.46%\n",
      "Epochs 5. Training Loss : 0.056. Validation Loss : 0.076. Validation Accuracy : 97.66%\n",
      "Epochs 6. Training Loss : 0.046. Validation Loss : 0.074. Validation Accuracy : 97.76%\n",
      "Epochs 7. Training Loss : 0.040. Validation Loss : 0.082. Validation Accuracy : 97.48%\n",
      "End of Training\n"
     ]
    }
   ],
   "source": [
    "# Outline the model\n",
    "input_size = 784\n",
    "output_size = 10\n",
    "hidden_layer_size = 100\n",
    "\n",
    "tf.reset_default_graph() #clear the memory all variable left form prev. run\n",
    "\n",
    "inputs = tf.placeholder(tf.float32,[None,input_size])\n",
    "targets = tf.placeholder(tf.float32,[None,output_size])\n",
    "\n",
    "#tf.nn contain most of activation fn\n",
    "weights_1 = tf.get_variable(\"weight_1\",[input_size, hidden_layer_size])\n",
    "biases_1 = tf.get_variable(\"biases_1\",[hidden_layer_size])\n",
    "outputs_1 = tf.nn.relu(tf.matmul(inputs,weights_1) + biases_1)\n",
    "\n",
    "weights_2 = tf.get_variable(\"weight_2\",[hidden_layer_size, hidden_layer_size])\n",
    "biases_2 = tf.get_variable(\"biases_2\",[hidden_layer_size])\n",
    "outputs_2 = tf.nn.relu(tf.matmul(outputs_1,weights_2) + biases_2)\n",
    "\n",
    "weights_3 = tf.get_variable(\"weight_3\",[hidden_layer_size, output_size])\n",
    "biases_3 = tf.get_variable(\"biases_3\",[output_size])\n",
    "\n",
    "outputs = tf.matmul(outputs_2,weights_3) + biases_3\n",
    "#logits = output, labels=targets\n",
    "loss = tf.nn.softmax_cross_entropy_with_logits(logits=outputs, labels=targets)\n",
    "#reduce_mean is a method which finds the mean of tensor across dimension\n",
    "mean_loss = tf.reduce_mean(loss)\n",
    "#optimizer\n",
    "#Also optimize = tf.train.GradientDescentOptimizer(learning_rate=0.05).minimize(mean_loss)\n",
    "optimize = tf.train.AdamOptimizer(learning_rate=0.001).minimize(mean_loss)\n",
    "\n",
    "#contain 1 or 0 for each observation\n",
    "out_equal_target = tf.equal(tf.argmax(outputs,1), tf.argmax(targets,1)) #argmax 1 i.e,(column) cause we are interested in max arg in target\n",
    "\n",
    "#tf.cast method to cast an obj to another datatype\n",
    "accuracy = tf.reduce_mean(tf.cast(out_equal_target, tf.float32))\n",
    "\n",
    "sess = tf.InteractiveSession()\n",
    "initializer = tf.global_variables_initializer()\n",
    "sess.run(initializer)\n",
    "\n",
    "#batch_size of 1 = SGD, batch_size no. of sample = GD\n",
    "#batches = No. of samples/batch size\n",
    "batch_size = 100\n",
    "baches = mnist.train._num_examples // batch_size\n",
    "max_epochs = 15\n",
    "\n",
    "# the true early stop will come if the validation loss starts increasing\n",
    "prev_validation_loss = 9999999.\n",
    "\n",
    "#we will go to every epochs we will go to saveral batches and update the weights multiple time instead of one per epochs\n",
    "for epoch_counter in range(max_epochs):\n",
    "    curr_epoch_loss = 0. #contains the mean training loss\n",
    "    # we wont lose any info as everythng is backpropagated to the parameter \n",
    "    for batch_counter in range(baches): #it loads 100 i/p and 100 o/p as batch size=100\n",
    "        #next_batch load the batches one after other (comes with mnist)\n",
    "        input_batch, target_batch = mnist.train.next_batch(batch_size)\n",
    "        #session run operation\n",
    "        #optimizes the algo and calculates the batch loss\n",
    "        _, batch_loss = sess.run([optimize, mean_loss],\n",
    "                                feed_dict = {inputs: input_batch, targets :target_batch})\n",
    "        #record loss for the iteration \n",
    "        curr_epoch_loss += batch_loss #now repeation till end\n",
    "    \n",
    "    #Avg loss or mean loss\n",
    "    curr_epoch_loss /= baches\n",
    "    \n",
    "    #now validation loss and accuracy for validation dataset\n",
    "    input_batch, target_batch = mnist.validation.next_batch(mnist.validation._num_examples)\n",
    "    validation_loss, validation_accuracy = sess.run([mean_loss, accuracy], \n",
    "                                                    feed_dict = {inputs: input_batch, targets :target_batch})\n",
    "    \n",
    "    print('Epochs '+str(epoch_counter+1)+\n",
    "         '. Training Loss : '+'{0:.3f}'.format(curr_epoch_loss)+\n",
    "         '. Validation Loss : '+'{0:.3f}'.format(validation_loss)+\n",
    "         '. Validation Accuracy : '+'{0:.2f}'.format(validation_accuracy * 100.)+'%')\n",
    "    \n",
    "    if validation_loss > prev_validation_loss:\n",
    "        break\n",
    "    prev_validation_loss = validation_loss\n",
    "    \n",
    "print('End of Training')"
   ]
  },
  {
   "cell_type": "markdown",
   "metadata": {},
   "source": [
    "#### Now on test dataset"
   ]
  },
  {
   "cell_type": "code",
   "execution_count": 9,
   "metadata": {},
   "outputs": [
    {
     "name": "stdout",
     "output_type": "stream",
     "text": [
      "Test accuracy: 97.51%\n"
     ]
    }
   ],
   "source": [
    "input_batch, target_batch = mnist.test.next_batch(mnist.test._num_examples)\n",
    "test_accuracy = sess.run([accuracy],\n",
    "                        feed_dict={inputs : input_batch, targets: target_batch})\n",
    "test_accuracy_percent = test_accuracy[0]*100.\n",
    "print('Test accuracy: '+'{0:.2f}'.format(test_accuracy_percent)+'%')"
   ]
  },
  {
   "cell_type": "code",
   "execution_count": null,
   "metadata": {},
   "outputs": [],
   "source": []
  }
 ],
 "metadata": {
  "kernelspec": {
   "display_name": "Python 3",
   "language": "python",
   "name": "python3"
  },
  "language_info": {
   "codemirror_mode": {
    "name": "ipython",
    "version": 3
   },
   "file_extension": ".py",
   "mimetype": "text/x-python",
   "name": "python",
   "nbconvert_exporter": "python",
   "pygments_lexer": "ipython3",
   "version": "3.6.5"
  }
 },
 "nbformat": 4,
 "nbformat_minor": 2
}
